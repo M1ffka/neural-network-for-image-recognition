{
  "nbformat": 4,
  "nbformat_minor": 0,
  "metadata": {
    "colab": {
      "provenance": [],
      "include_colab_link": true
    },
    "kernelspec": {
      "name": "python3",
      "display_name": "Python 3"
    },
    "language_info": {
      "name": "python"
    }
  },
  "cells": [
    {
      "cell_type": "markdown",
      "metadata": {
        "id": "view-in-github",
        "colab_type": "text"
      },
      "source": [
        "<a href=\"https://colab.research.google.com/github/M1ffka/neural-network-for-image-recognition/blob/main/NN.ipynb\" target=\"_parent\"><img src=\"https://colab.research.google.com/assets/colab-badge.svg\" alt=\"Open In Colab\"/></a>"
      ]
    },
    {
      "cell_type": "markdown",
      "source": [
        "## Обучение полносвязной нейронной сети\n",
        "\n"
      ],
      "metadata": {
        "id": "ZlU_VFkjCX6i"
      }
    },
    {
      "cell_type": "code",
      "source": [
        "!git clone https://github.com/M1ffka/neural-network-for-image-recognition.git"
      ],
      "metadata": {
        "colab": {
          "base_uri": "https://localhost:8080/"
        },
        "id": "gY-Ls6ApJZYy",
        "outputId": "9aedc2fe-b6c0-41ad-c1cc-41730908084c"
      },
      "execution_count": null,
      "outputs": [
        {
          "output_type": "stream",
          "name": "stdout",
          "text": [
            "Cloning into 'neural-network-for-image-recognition'...\n",
            "remote: Enumerating objects: 3, done.\u001b[K\n",
            "remote: Counting objects: 100% (3/3), done.\u001b[K\n",
            "remote: Total 3 (delta 0), reused 0 (delta 0), pack-reused 0\u001b[K\n",
            "Receiving objects: 100% (3/3), done.\n"
          ]
        }
      ]
    },
    {
      "cell_type": "markdown",
      "source": [
        "### Загрузка пакетов"
      ],
      "metadata": {
        "id": "ohQrT84pE8K5"
      }
    },
    {
      "cell_type": "code",
      "execution_count": null,
      "metadata": {
        "id": "zpuAcmOMCT8P"
      },
      "outputs": [],
      "source": [
        "import numpy as np\n",
        "import pandas as pd\n",
        "import matplotlib.pyplot as plt\n",
        "\n",
        "import torch\n",
        "import torch.nn as nn\n",
        "\n",
        "import torchvision.datasets\n",
        "import torchvision.transforms as transforms\n",
        "from torch.utils.data import Dataset, DataLoader"
      ]
    },
    {
      "cell_type": "markdown",
      "source": [
        "### Скачиваем данные"
      ],
      "metadata": {
        "id": "-w7tNXFFFTs-"
      }
    },
    {
      "cell_type": "code",
      "source": [
        "import tensorflow as tf\n",
        "\n",
        "\n",
        "fashion_mnist = tf.keras.datasets.fashion_mnist\n",
        "(train_images, train_labels), (test_images, test_labels) = fashion_mnist.load_data()\n",
        "\n",
        "train_images = torch.from_numpy(train_images)\n",
        "train_labels = torch.from_numpy(train_labels).type(torch.LongTensor)\n",
        "test_images = torch.from_numpy(test_images)\n",
        "test_labels = torch.from_numpy(test_labels).type(torch.LongTensor)\n",
        "train_images = train_images / 255\n",
        "test_images = test_images / 255\n",
        "train_images = train_images.float()\n",
        "test_images = test_images.float()"
      ],
      "metadata": {
        "id": "KLy96iraJsqA"
      },
      "execution_count": null,
      "outputs": []
    },
    {
      "cell_type": "markdown",
      "source": [
        "### Визуализация"
      ],
      "metadata": {
        "id": "Gpsg45xqLaTU"
      }
    },
    {
      "cell_type": "code",
      "source": [
        "def output_label(label):\n",
        "    output_mapping = {\n",
        "                 0: \"T-shirt/Top\",\n",
        "                 1: \"Trouser\",\n",
        "                 2: \"Pullover\",\n",
        "                 3: \"Dress\",\n",
        "                 4: \"Coat\",\n",
        "                 5: \"Sandal\",\n",
        "                 6: \"Shirt\",\n",
        "                 7: \"Sneaker\",\n",
        "                 8: \"Bag\",\n",
        "                 9: \"Ankle Boot\"\n",
        "              }\n",
        "    input = (label.item() if type(label) == torch.Tensor else label)\n",
        "\n",
        "    return output_mapping[input]\n"
      ],
      "metadata": {
        "id": "Bpr12ZtOLbsi"
      },
      "execution_count": null,
      "outputs": []
    },
    {
      "cell_type": "code",
      "source": [
        "plt.imshow(train_images[1].squeeze(), cmap=\"gray\")\n",
        "print(output_label(train_labels[1]))"
      ],
      "metadata": {
        "colab": {
          "base_uri": "https://localhost:8080/",
          "height": 447
        },
        "id": "q9gD6q-xLk5x",
        "outputId": "770606fd-87e0-48f7-e1c0-82b02b1e0625"
      },
      "execution_count": null,
      "outputs": [
        {
          "output_type": "stream",
          "name": "stdout",
          "text": [
            "T-shirt/Top\n"
          ]
        },
        {
          "output_type": "display_data",
          "data": {
            "text/plain": [
              "<Figure size 640x480 with 1 Axes>"
            ],
            "image/png": "[encoded data removed]"
          },
          "metadata": {}
        }
      ]
    },
    {
      "cell_type": "markdown",
      "source": [
        "### Гистограмма распределения\n"
      ],
      "metadata": {
        "id": "ur0jtdWgdL-M"
      }
    },
    {
      "cell_type": "code",
      "source": [
        "plt.hist(train_labels, bins=10, color='skyblue', edgecolor='black')\n",
        "plt.xticks(range(10))"
      ],
      "metadata": {
        "id": "uDT3d8GUdOgH",
        "colab": {
          "base_uri": "https://localhost:8080/",
          "height": 777
        },
        "outputId": "f054b1b7-c5ea-49a1-8724-e49a7a3d7956"
      },
      "execution_count": null,
      "outputs": [
        {
          "output_type": "execute_result",
          "data": {
            "text/plain": [
              "([<matplotlib.axis.XTick at 0x78e49ae074c0>,\n",
              "  <matplotlib.axis.XTick at 0x78e49ae07490>,\n",
              "  <matplotlib.axis.XTick at 0x78e49b1ddab0>,\n",
              "  <matplotlib.axis.XTick at 0x78e49ae04ac0>,\n",
              "  <matplotlib.axis.XTick at 0x78e49ae050c0>,\n",
              "  <matplotlib.axis.XTick at 0x78e49ae2c880>,\n",
              "  <matplotlib.axis.XTick at 0x78e49ae2cee0>,\n",
              "  <matplotlib.axis.XTick at 0x78e49ae2e350>,\n",
              "  <matplotlib.axis.XTick at 0x78e49af8d9c0>,\n",
              "  <matplotlib.axis.XTick at 0x78e49af8d480>],\n",
              " [Text(0, 0, '0'),\n",
              "  Text(1, 0, '1'),\n",
              "  Text(2, 0, '2'),\n",
              "  Text(3, 0, '3'),\n",
              "  Text(4, 0, '4'),\n",
              "  Text(5, 0, '5'),\n",
              "  Text(6, 0, '6'),\n",
              "  Text(7, 0, '7'),\n",
              "  Text(8, 0, '8'),\n",
              "  Text(9, 0, '9')])"
            ]
          },
          "metadata": {},
          "execution_count": 50
        },
        {
          "output_type": "display_data",
          "data": {
            "text/plain": [
              "<Figure size 640x480 with 1 Axes>"
            ],
            "image/png": "[encoded data removed]"
          },
          "metadata": {}
        }
      ]
    },
    {
      "cell_type": "markdown",
      "source": [
        "Дисбаланс не присутствует, так как количество каждого класса в датасете одинаково."
      ],
      "metadata": {
        "id": "bm9THPgHdX5S"
      }
    },
    {
      "cell_type": "markdown",
      "source": [
        "### Класс Dataset"
      ],
      "metadata": {
        "id": "xNQ8AI8UL8-6"
      }
    },
    {
      "cell_type": "code",
      "source": [
        "class fashionDataset(Dataset):\n",
        "  def __init__(self, X, y):\n",
        "    self.X = X\n",
        "    self.y = y\n",
        "\n",
        "\n",
        "  def __len__(self):\n",
        "    return len(self.X)\n",
        "\n",
        "  def __getitem__(self, index):\n",
        "    image = self.X[index]\n",
        "    label = self.y[index]\n",
        "\n",
        "    return image, label"
      ],
      "metadata": {
        "id": "KUornuZTLvG_"
      },
      "execution_count": null,
      "outputs": []
    },
    {
      "cell_type": "markdown",
      "source": [
        "### Экземпляры DataLoaders"
      ],
      "metadata": {
        "id": "i70vcpTkZQkk"
      }
    },
    {
      "cell_type": "code",
      "source": [
        "train = fashionDataset(train_images, train_labels)\n",
        "test = fashionDataset(test_images, test_labels)\n",
        "\n",
        "batch_size = 100\n",
        "train_loader = DataLoader(train, batch_size=batch_size, shuffle=True)\n",
        "test_loader = DataLoader(test, batch_size=batch_size, shuffle=False)\n"
      ],
      "metadata": {
        "id": "0Gnfrn8uZNIn"
      },
      "execution_count": null,
      "outputs": []
    },
    {
      "cell_type": "markdown",
      "source": [
        "### Нейронная сеть"
      ],
      "metadata": {
        "id": "r2UKYa-8Zjgn"
      }
    },
    {
      "cell_type": "code",
      "source": [
        "class ANNModel(nn.Module):\n",
        "    def __init__(self, input_size, hidden_size, num_classes):\n",
        "        super(ANNModel, self).__init__()\n",
        "        self.fc1 = nn.Linear(input_size, hidden_size)\n",
        "        self.relu1 = nn.ReLU()\n",
        "        self.fc2 = nn.Linear(hidden_size, hidden_size)\n",
        "        self.tanh2 = nn.Tanh()\n",
        "        self.fc3 = nn.Linear(hidden_size, num_classes)\n",
        "    def forward(self, x):\n",
        "        x = x.view(x.size(0), -1)\n",
        "        out = self.fc1(x)\n",
        "        out = self.relu1(out)\n",
        "        out = self.fc2(out)\n",
        "        out = self.tanh2(out)\n",
        "        out = self.fc3(out)\n",
        "        return out\n",
        "input_size = 784  # Размер изображения\n",
        "hidden_size = 100\n",
        "num_classes = 10     # Количество классов (классов одежды в FashionMNIST)\n",
        "\n",
        "model = ANNModel(input_size, hidden_size, num_classes)"
      ],
      "metadata": {
        "id": "7tL5YJYmZi0f"
      },
      "execution_count": null,
      "outputs": []
    },
    {
      "cell_type": "markdown",
      "source": [
        "### Функция ошибки и оптимизатор"
      ],
      "metadata": {
        "id": "MpO17iPdZ2F1"
      }
    },
    {
      "cell_type": "code",
      "source": [
        "criterion = nn.CrossEntropyLoss()\n",
        "lr = 0.002\n",
        "optimizer = torch.optim.SGD(model.parameters(), lr=lr)"
      ],
      "metadata": {
        "id": "EfM8ad6pZ6UJ"
      },
      "execution_count": null,
      "outputs": []
    },
    {
      "cell_type": "markdown",
      "source": [
        "### Обучение"
      ],
      "metadata": {
        "id": "_ozd1EekZaHT"
      }
    },
    {
      "cell_type": "code",
      "source": [
        "num_epochs = 10 # можно менять\n",
        "count = 0\n",
        "loss_list = []\n",
        "iteration_list = []\n",
        "accuracy_list = []\n",
        "total_step = len(train_loader)\n",
        "for epoch in range(num_epochs):\n",
        "    for i, (train_images, train_labels) in enumerate(train_loader):\n",
        "      optimizer.zero_grad()\n",
        "      outputs = model(train_images)\n",
        "      loss = criterion(outputs, train_labels)\n",
        "      loss.backward()\n",
        "      optimizer.step()\n",
        "      count += 1\n",
        "\n",
        "      if count % 50 == 0:\n",
        "        correct = 0\n",
        "        total = 0\n",
        "        for test_images, test_labels in test_loader:\n",
        "          outputs = model(test_images)\n",
        "          predicted = torch.max(outputs.data, 1)[1]\n",
        "          total += len(test_labels)\n",
        "          correct += (predicted == test_labels).sum()\n",
        "\n",
        "      if total > 0:\n",
        "        accuracy = 100 * correct / float(total)\n",
        "      else:\n",
        "        accuracy = 0\n",
        "      loss_list.append(loss.data)\n",
        "      iteration_list.append(count)\n",
        "      accuracy_list.append(accuracy)\n",
        "\n",
        "      if (i+1) % 100 == 0:\n",
        "        print(f'Epoch [{epoch+1}/{num_epochs}], Step [{i+1}/{total_step}], Loss: {loss.item():.4f}, accuracy: {accuracy:.4f}')"
      ],
      "metadata": {
        "id": "ceiYRW0_Zb4Y",
        "colab": {
          "base_uri": "https://localhost:8080/"
        },
        "outputId": "5c425e7d-f76d-459e-f898-a09287734b84"
      },
      "execution_count": null,
      "outputs": [
        {
          "output_type": "stream",
          "name": "stdout",
          "text": [
            "Epoch [1/10], Step [100/600], Loss: 0.6915, accuracy: 77.1800\n",
            "Epoch [1/10], Step [200/600], Loss: 0.6055, accuracy: 77.3000\n",
            "Epoch [1/10], Step [300/600], Loss: 0.6218, accuracy: 77.2700\n",
            "Epoch [1/10], Step [400/600], Loss: 0.5763, accuracy: 77.3000\n",
            "Epoch [1/10], Step [500/600], Loss: 0.6293, accuracy: 77.4200\n",
            "Epoch [1/10], Step [600/600], Loss: 0.6510, accuracy: 77.4800\n",
            "Epoch [2/10], Step [100/600], Loss: 0.6531, accuracy: 77.6300\n",
            "Epoch [2/10], Step [200/600], Loss: 0.5661, accuracy: 77.7600\n",
            "Epoch [2/10], Step [300/600], Loss: 0.5831, accuracy: 77.6900\n",
            "Epoch [2/10], Step [400/600], Loss: 0.5456, accuracy: 77.6800\n",
            "Epoch [2/10], Step [500/600], Loss: 0.7072, accuracy: 77.8400\n",
            "Epoch [2/10], Step [600/600], Loss: 0.5784, accuracy: 77.7000\n",
            "Epoch [3/10], Step [100/600], Loss: 0.6517, accuracy: 78.0000\n",
            "Epoch [3/10], Step [200/600], Loss: 0.4193, accuracy: 77.9900\n",
            "Epoch [3/10], Step [300/600], Loss: 0.8690, accuracy: 77.9500\n",
            "Epoch [3/10], Step [400/600], Loss: 0.6406, accuracy: 78.2300\n",
            "Epoch [3/10], Step [500/600], Loss: 0.4918, accuracy: 78.2800\n",
            "Epoch [3/10], Step [600/600], Loss: 0.6547, accuracy: 78.3800\n",
            "Epoch [4/10], Step [100/600], Loss: 0.5857, accuracy: 78.5800\n",
            "Epoch [4/10], Step [200/600], Loss: 0.6490, accuracy: 78.4300\n",
            "Epoch [4/10], Step [300/600], Loss: 0.6427, accuracy: 78.4900\n",
            "Epoch [4/10], Step [400/600], Loss: 0.6351, accuracy: 78.6000\n",
            "Epoch [4/10], Step [500/600], Loss: 0.6286, accuracy: 78.6200\n",
            "Epoch [4/10], Step [600/600], Loss: 0.4782, accuracy: 78.6300\n",
            "Epoch [5/10], Step [100/600], Loss: 0.5372, accuracy: 78.7000\n",
            "Epoch [5/10], Step [200/600], Loss: 0.6659, accuracy: 78.7600\n",
            "Epoch [5/10], Step [300/600], Loss: 0.5350, accuracy: 78.8500\n",
            "Epoch [5/10], Step [400/600], Loss: 0.5638, accuracy: 78.8900\n",
            "Epoch [5/10], Step [500/600], Loss: 0.6594, accuracy: 79.0000\n",
            "Epoch [5/10], Step [600/600], Loss: 0.5980, accuracy: 78.9800\n",
            "Epoch [6/10], Step [100/600], Loss: 0.6143, accuracy: 78.9900\n",
            "Epoch [6/10], Step [200/600], Loss: 0.6500, accuracy: 79.1200\n",
            "Epoch [6/10], Step [300/600], Loss: 0.4282, accuracy: 79.2000\n",
            "Epoch [6/10], Step [400/600], Loss: 0.5448, accuracy: 79.2000\n",
            "Epoch [6/10], Step [500/600], Loss: 0.5694, accuracy: 79.3000\n",
            "Epoch [6/10], Step [600/600], Loss: 0.5258, accuracy: 79.2700\n",
            "Epoch [7/10], Step [100/600], Loss: 0.6061, accuracy: 79.3000\n",
            "Epoch [7/10], Step [200/600], Loss: 0.5233, accuracy: 79.4900\n",
            "Epoch [7/10], Step [300/600], Loss: 0.4741, accuracy: 79.5800\n",
            "Epoch [7/10], Step [400/600], Loss: 0.5976, accuracy: 79.6200\n",
            "Epoch [7/10], Step [500/600], Loss: 0.5021, accuracy: 79.7100\n",
            "Epoch [7/10], Step [600/600], Loss: 0.5241, accuracy: 79.7500\n",
            "Epoch [8/10], Step [100/600], Loss: 0.3893, accuracy: 79.7500\n",
            "Epoch [8/10], Step [200/600], Loss: 0.5953, accuracy: 79.7700\n",
            "Epoch [8/10], Step [300/600], Loss: 0.5335, accuracy: 79.9200\n",
            "Epoch [8/10], Step [400/600], Loss: 0.5926, accuracy: 80.0100\n",
            "Epoch [8/10], Step [500/600], Loss: 0.6481, accuracy: 79.8800\n",
            "Epoch [8/10], Step [600/600], Loss: 0.5970, accuracy: 80.1700\n",
            "Epoch [9/10], Step [100/600], Loss: 0.6274, accuracy: 80.1000\n",
            "Epoch [9/10], Step [200/600], Loss: 0.6744, accuracy: 80.0600\n",
            "Epoch [9/10], Step [300/600], Loss: 0.5181, accuracy: 80.0500\n",
            "Epoch [9/10], Step [400/600], Loss: 0.5089, accuracy: 80.1200\n",
            "Epoch [9/10], Step [500/600], Loss: 0.5833, accuracy: 80.4000\n",
            "Epoch [9/10], Step [600/600], Loss: 0.5828, accuracy: 80.3900\n",
            "Epoch [10/10], Step [100/600], Loss: 0.4695, accuracy: 80.3600\n",
            "Epoch [10/10], Step [200/600], Loss: 0.5052, accuracy: 80.3000\n",
            "Epoch [10/10], Step [300/600], Loss: 0.4802, accuracy: 80.4300\n",
            "Epoch [10/10], Step [400/600], Loss: 0.5286, accuracy: 80.4100\n",
            "Epoch [10/10], Step [500/600], Loss: 0.5008, accuracy: 80.4800\n",
            "Epoch [10/10], Step [600/600], Loss: 0.5595, accuracy: 80.5300\n"
          ]
        }
      ]
    },
    {
      "cell_type": "markdown",
      "source": [
        "### Валидация результатов"
      ],
      "metadata": {
        "id": "JJcY6G01aHuT"
      }
    },
    {
      "cell_type": "code",
      "source": [
        "model.eval()\n",
        "with torch.no_grad():\n",
        "    correct = 0\n",
        "    total = 0\n",
        "    for images, labels in test_loader:\n",
        "        outputs = model(images)\n",
        "        _, predicted = torch.max(outputs.data, 1)\n",
        "        total += labels.size(0)\n",
        "        correct += (predicted == labels).sum().item()\n",
        "\n",
        "print(f'Точность модели на тестовом наборе: {(correct / total) * 100:.2f}%')"
      ],
      "metadata": {
        "id": "7Z-qoXJ4aIPs",
        "colab": {
          "base_uri": "https://localhost:8080/"
        },
        "outputId": "0cde79b2-1598-406d-dc96-cbf24850781e"
      },
      "execution_count": null,
      "outputs": [
        {
          "output_type": "stream",
          "name": "stdout",
          "text": [
            "Точность модели на тестовом наборе: 80.53%\n"
          ]
        }
      ]
    },
    {
      "cell_type": "code",
      "source": [],
      "metadata": {
        "id": "rWXekG_hOEjj"
      },
      "execution_count": null,
      "outputs": []
    }
  ]
}